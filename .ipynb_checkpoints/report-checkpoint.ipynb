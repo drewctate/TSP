{
 "cells": [
  {
   "cell_type": "markdown",
   "metadata": {},
   "source": [
    "## Describe the data structures you use to represent the states.\n",
    "The state class includes the following:\n",
    "* The reduced cost matrix\n",
    "* The state's lower bound\n",
    "* The cost of the route to the state\n",
    "* A reference to the parent state\n",
    "* A reference to the city that corresponds to the state\n",
    "* An array containing the cities that compose the path to the state\n",
    "\n",
    "I chose to store the path instead of traversing through parent nodes because it is simpler to find the depth of the state node, and faster to return the final route."
   ]
  },
  {
   "cell_type": "markdown",
   "metadata": {},
   "source": [
    "## Describe the priority queue data structure you use and how it works.\n",
    "I used Python's builtin heapq library. Rather than containing the elements internally, it is a set of functions that can be used to heapify and perform heap operations on independently-existing python list. I used 3-tuples in the list with the first index being the priority key, the second being a tiebreaker, and the third being a reference to the actual state object."
   ]
  },
  {
   "cell_type": "markdown",
   "metadata": {},
   "source": [
    "## Describe your approach for the initial BSSF.\n",
    "I just used cities in the given order."
   ]
  },
  {
   "cell_type": "code",
   "execution_count": null,
   "metadata": {
    "collapsed": true
   },
   "outputs": [],
   "source": []
  }
 ],
 "metadata": {
  "kernelspec": {
   "display_name": "Python 3",
   "language": "python",
   "name": "python3"
  },
  "language_info": {
   "codemirror_mode": {
    "name": "ipython",
    "version": 3
   },
   "file_extension": ".py",
   "mimetype": "text/x-python",
   "name": "python",
   "nbconvert_exporter": "python",
   "pygments_lexer": "ipython3",
   "version": "3.6.4"
  }
 },
 "nbformat": 4,
 "nbformat_minor": 2
}
